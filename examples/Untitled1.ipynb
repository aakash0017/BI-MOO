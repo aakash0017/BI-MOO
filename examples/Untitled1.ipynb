{
 "cells": [
  {
   "cell_type": "code",
   "execution_count": 1,
   "metadata": {
    "collapsed": true
   },
   "outputs": [],
   "source": [
    "import numpy as np"
   ]
  },
  {
   "cell_type": "code",
   "execution_count": 2,
   "metadata": {},
   "outputs": [],
   "source": [
    "a = [[1,5,6], [3,5,1], [9,4,0]]"
   ]
  },
  {
   "cell_type": "code",
   "execution_count": 3,
   "metadata": {},
   "outputs": [],
   "source": [
    "arr = np.array(a)"
   ]
  },
  {
   "cell_type": "code",
   "execution_count": 4,
   "metadata": {},
   "outputs": [
    {
     "data": {
      "text/plain": [
       "array([[1, 5, 6],\n",
       "       [3, 5, 1],\n",
       "       [9, 4, 0]])"
      ]
     },
     "execution_count": 4,
     "metadata": {},
     "output_type": "execute_result"
    }
   ],
   "source": [
    "arr"
   ]
  },
  {
   "cell_type": "code",
   "execution_count": 5,
   "metadata": {},
   "outputs": [],
   "source": [
    "\tdef triclusterToChromosome(self, tricluster, problem):\n",
    "\t\tchromosome = problem.generateEmptyIndividual()\n",
    "\t\tlL = self.data.shape[0]\n",
    "\t\tlC = self.data.shape[1]\n",
    "\t\t# lT = self.data.shape[2]\n",
    "\t\tlIR= self.data.shape[0]\n",
    "\t\t \n",
    "\t\tfor row in tricluster.rows:\n",
    "\t\t\tchromosome.features[row] = 1\n",
    "\t\tfor col in tricluster.cols:\n",
    "\t\t\tchromosome.features[lL + col] = 1\n",
    "\t\t# for time in tricluster.times:\n",
    "\t\t# \tchromosome.features[lL+lC+time] = 1\n",
    "\t\tfor invRow in tricluster.inverted_rows:\n",
    "\t\t\tchromosome.features[lL+lC+invRow] = 1\n",
    "\t\t\n",
    "\t\treturn(chromosome)"
   ]
  },
  {
   "cell_type": "code",
   "execution_count": null,
   "metadata": {},
   "outputs": [],
   "source": []
  }
 ],
 "metadata": {
  "kernelspec": {
   "display_name": "Python 3",
   "language": "python",
   "name": "python3"
  },
  "language_info": {
   "codemirror_mode": {
    "name": "ipython",
    "version": 3
   },
   "file_extension": ".py",
   "mimetype": "text/x-python",
   "name": "python",
   "nbconvert_exporter": "python",
   "pygments_lexer": "ipython3",
   "version": "3.8.5"
  }
 },
 "nbformat": 4,
 "nbformat_minor": 4
}
